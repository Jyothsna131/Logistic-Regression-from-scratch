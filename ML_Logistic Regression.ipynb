{
 "cells": [
  {
   "cell_type": "markdown",
   "metadata": {},
   "source": [
    "# Read Data"
   ]
  },
  {
   "cell_type": "code",
   "execution_count": 1,
   "metadata": {},
   "outputs": [
    {
     "data": {
      "text/html": [
       "<div>\n",
       "<style scoped>\n",
       "    .dataframe tbody tr th:only-of-type {\n",
       "        vertical-align: middle;\n",
       "    }\n",
       "\n",
       "    .dataframe tbody tr th {\n",
       "        vertical-align: top;\n",
       "    }\n",
       "\n",
       "    .dataframe thead th {\n",
       "        text-align: right;\n",
       "    }\n",
       "</style>\n",
       "<table border=\"1\" class=\"dataframe\">\n",
       "  <thead>\n",
       "    <tr style=\"text-align: right;\">\n",
       "      <th></th>\n",
       "      <th>sepal_length</th>\n",
       "      <th>sepal_width</th>\n",
       "      <th>petal_length</th>\n",
       "      <th>petal_width</th>\n",
       "      <th>species</th>\n",
       "    </tr>\n",
       "  </thead>\n",
       "  <tbody>\n",
       "    <tr>\n",
       "      <th>0</th>\n",
       "      <td>5.1</td>\n",
       "      <td>3.5</td>\n",
       "      <td>1.4</td>\n",
       "      <td>0.2</td>\n",
       "      <td>setosa</td>\n",
       "    </tr>\n",
       "    <tr>\n",
       "      <th>1</th>\n",
       "      <td>4.9</td>\n",
       "      <td>3.0</td>\n",
       "      <td>1.4</td>\n",
       "      <td>0.2</td>\n",
       "      <td>setosa</td>\n",
       "    </tr>\n",
       "    <tr>\n",
       "      <th>2</th>\n",
       "      <td>4.7</td>\n",
       "      <td>3.2</td>\n",
       "      <td>1.3</td>\n",
       "      <td>0.2</td>\n",
       "      <td>setosa</td>\n",
       "    </tr>\n",
       "    <tr>\n",
       "      <th>3</th>\n",
       "      <td>4.6</td>\n",
       "      <td>3.1</td>\n",
       "      <td>1.5</td>\n",
       "      <td>0.2</td>\n",
       "      <td>setosa</td>\n",
       "    </tr>\n",
       "    <tr>\n",
       "      <th>4</th>\n",
       "      <td>5.0</td>\n",
       "      <td>3.6</td>\n",
       "      <td>1.4</td>\n",
       "      <td>0.2</td>\n",
       "      <td>setosa</td>\n",
       "    </tr>\n",
       "    <tr>\n",
       "      <th>...</th>\n",
       "      <td>...</td>\n",
       "      <td>...</td>\n",
       "      <td>...</td>\n",
       "      <td>...</td>\n",
       "      <td>...</td>\n",
       "    </tr>\n",
       "    <tr>\n",
       "      <th>145</th>\n",
       "      <td>6.7</td>\n",
       "      <td>3.0</td>\n",
       "      <td>5.2</td>\n",
       "      <td>2.3</td>\n",
       "      <td>virginica</td>\n",
       "    </tr>\n",
       "    <tr>\n",
       "      <th>146</th>\n",
       "      <td>6.3</td>\n",
       "      <td>2.5</td>\n",
       "      <td>5.0</td>\n",
       "      <td>1.9</td>\n",
       "      <td>virginica</td>\n",
       "    </tr>\n",
       "    <tr>\n",
       "      <th>147</th>\n",
       "      <td>6.5</td>\n",
       "      <td>3.0</td>\n",
       "      <td>5.2</td>\n",
       "      <td>2.0</td>\n",
       "      <td>virginica</td>\n",
       "    </tr>\n",
       "    <tr>\n",
       "      <th>148</th>\n",
       "      <td>6.2</td>\n",
       "      <td>3.4</td>\n",
       "      <td>5.4</td>\n",
       "      <td>2.3</td>\n",
       "      <td>virginica</td>\n",
       "    </tr>\n",
       "    <tr>\n",
       "      <th>149</th>\n",
       "      <td>5.9</td>\n",
       "      <td>3.0</td>\n",
       "      <td>5.1</td>\n",
       "      <td>1.8</td>\n",
       "      <td>virginica</td>\n",
       "    </tr>\n",
       "  </tbody>\n",
       "</table>\n",
       "<p>150 rows × 5 columns</p>\n",
       "</div>"
      ],
      "text/plain": [
       "     sepal_length  sepal_width  petal_length  petal_width    species\n",
       "0             5.1          3.5           1.4          0.2     setosa\n",
       "1             4.9          3.0           1.4          0.2     setosa\n",
       "2             4.7          3.2           1.3          0.2     setosa\n",
       "3             4.6          3.1           1.5          0.2     setosa\n",
       "4             5.0          3.6           1.4          0.2     setosa\n",
       "..            ...          ...           ...          ...        ...\n",
       "145           6.7          3.0           5.2          2.3  virginica\n",
       "146           6.3          2.5           5.0          1.9  virginica\n",
       "147           6.5          3.0           5.2          2.0  virginica\n",
       "148           6.2          3.4           5.4          2.3  virginica\n",
       "149           5.9          3.0           5.1          1.8  virginica\n",
       "\n",
       "[150 rows x 5 columns]"
      ]
     },
     "execution_count": 1,
     "metadata": {},
     "output_type": "execute_result"
    }
   ],
   "source": [
    "import pandas as pd\n",
    "data=pd.read_csv('Iris.csv')\n",
    "data"
   ]
  },
  {
   "cell_type": "markdown",
   "metadata": {},
   "source": [
    "##### It has four features and 3 classes \n",
    "##### Consider only two classes and two features \n",
    "##### Store two classes in dictionary d with keys -1 and 1 "
   ]
  },
  {
   "cell_type": "code",
   "execution_count": 2,
   "metadata": {},
   "outputs": [],
   "source": [
    "# Considering only two classes\n",
    "\n",
    "from collections import defaultdict\n",
    "dtrain=defaultdict(list)\n",
    "for i in range(102):\n",
    "    if data.loc[i,'species']=='setosa':\n",
    "        \n",
    "        key=1\n",
    "    elif data.loc[i,'species']=='versicolor':\n",
    "        key=-1\n",
    "    else:\n",
    "        continue\n",
    "    dtrain[key].append([data.loc[i,'sepal_length'],data.loc[i,'sepal_width']])\n",
    "   "
   ]
  },
  {
   "cell_type": "markdown",
   "metadata": {},
   "source": [
    "# Visualize data"
   ]
  },
  {
   "cell_type": "code",
   "execution_count": 3,
   "metadata": {},
   "outputs": [],
   "source": [
    "import matplotlib.pyplot as plt\n",
    "def plot(x1,x2,title='Data'):\n",
    "                   \n",
    "    plt.plot(x1[0],x1[1],'o',label='-1')\n",
    "    plt.plot(x2[0],x2[1],'o',label='1')\n",
    "    plt.title(title)\n",
    "    plt.xlabel('sepal length')\n",
    "    plt.ylabel('sepal width')\n"
   ]
  },
  {
   "cell_type": "code",
   "execution_count": 4,
   "metadata": {},
   "outputs": [
    {
     "data": {
      "image/png": "[encoded data removed]",
      "text/plain": [
       "<Figure size 432x288 with 1 Axes>"
      ]
     },
     "metadata": {
      "needs_background": "light"
     },
     "output_type": "display_data"
    }
   ],
   "source": [
    "import numpy as np\n",
    "class1t=np.transpose(dtrain[-1])\n",
    "class2t=np.transpose(dtrain[1])\n",
    "plot(class1t,class2t)  #d[-1]: (no.of data points,2)--> d[-1]': (2,no.of data points)"
   ]
  },
  {
   "cell_type": "markdown",
   "metadata": {},
   "source": [
    "##### x1: input (features)\n",
    "#### y1: output(labels/corresponding classes)"
   ]
  },
  {
   "cell_type": "code",
   "execution_count": 5,
   "metadata": {},
   "outputs": [],
   "source": [
    "x1=np.concatenate((np.array(dtrain[-1]),np.array(dtrain[1])))   # first 50 rows are of class -1 and last 50 rows are of class 1\n",
    "y1=np.concatenate((np.zeros((len(dtrain[-1]),1)),(np.ones((len(dtrain[1]),1)))))\n",
    "m,n=np.shape(x1)"
   ]
  },
  {
   "cell_type": "markdown",
   "metadata": {},
   "source": [
    "##### Add a column of ones for at index 0 to represent $x_0$"
   ]
  },
  {
   "cell_type": "code",
   "execution_count": 6,
   "metadata": {},
   "outputs": [
    {
     "data": {
      "text/plain": [
       "(100, 3)"
      ]
     },
     "execution_count": 6,
     "metadata": {},
     "output_type": "execute_result"
    }
   ],
   "source": [
    "x1=np.concatenate((np.ones((len(x1),1)),x1),axis=1)\n",
    "np.shape(x1)"
   ]
  },
  {
   "cell_type": "markdown",
   "metadata": {},
   "source": [
    "# Split the data into training and testing data"
   ]
  },
  {
   "cell_type": "code",
   "execution_count": 7,
   "metadata": {},
   "outputs": [],
   "source": [
    "from sklearn.model_selection import train_test_split\n",
    "xtrain,xtest,ytrain,ytest=train_test_split(x1,y1,test_size=0.3,random_state=40)"
   ]
  },
  {
   "cell_type": "markdown",
   "metadata": {},
   "source": [
    "# separate train data with respect to classes to visualize"
   ]
  },
  {
   "cell_type": "code",
   "execution_count": 8,
   "metadata": {},
   "outputs": [
    {
     "data": {
      "image/png": "[encoded data removed]",
      "text/plain": [
       "<Figure size 432x288 with 1 Axes>"
      ]
     },
     "metadata": {
      "needs_background": "light"
     },
     "output_type": "display_data"
    }
   ],
   "source": [
    "c1train=np.transpose(xtrain[np.where(ytrain==0)[0]][:,1:])\n",
    "c2train=np.transpose(xtrain[np.where(ytrain==1)[0]][:,1:])\n",
    "plot(c1train,c2train,title='Train Data')"
   ]
  },
  {
   "cell_type": "markdown",
   "metadata": {},
   "source": [
    "# separate train data with respect to classes to visualize"
   ]
  },
  {
   "cell_type": "code",
   "execution_count": 9,
   "metadata": {},
   "outputs": [
    {
     "data": {
      "image/png": "[encoded data removed]",
      "text/plain": [
       "<Figure size 432x288 with 1 Axes>"
      ]
     },
     "metadata": {
      "needs_background": "light"
     },
     "output_type": "display_data"
    }
   ],
   "source": [
    "c1test=np.transpose(xtest[np.where(ytest==0)[0]][:,1:])\n",
    "c2test=np.transpose(xtest[np.where(ytest==1)[0]][:,1:])\n",
    "plot(c1test,c2test,title='Test Data')"
   ]
  },
  {
   "cell_type": "markdown",
   "metadata": {},
   "source": [
    "# Train the data"
   ]
  },
  {
   "cell_type": "code",
   "execution_count": 10,
   "metadata": {},
   "outputs": [],
   "source": [
    "def train(x1,y1,epochs=10000):\n",
    "    # Initialize weights\n",
    "    m,n=np.shape(x1)\n",
    "    W=np.ones((n,1))\n",
    "    alpha=0.001  # Learning factor\n",
    "    for i in range(epochs):\n",
    "        h=np.dot(x1,W)\n",
    "        np.shape(h)\n",
    "        h1=1/(1 + np.exp(-h))\n",
    "        #err=(1/m)*np.sum(np.multiply(y,np.log(h1)),np.multiply(1-y,np.log(1-h1)))\n",
    "        e=h1-y1\n",
    "        W=W-((alpha/m)*np.dot(np.transpose(x1),e))\n",
    "    return W,h1\n",
    "        "
   ]
  },
  {
   "cell_type": "code",
   "execution_count": 11,
   "metadata": {},
   "outputs": [],
   "source": [
    "W,h1=train(xtrain,ytrain)"
   ]
  },
  {
   "cell_type": "markdown",
   "metadata": {},
   "source": [
    "# To continue training "
   ]
  },
  {
   "cell_type": "code",
   "execution_count": 12,
   "metadata": {},
   "outputs": [],
   "source": [
    "def continue_train(x1,y1,W,epochs=10000):\n",
    "    # Initialize weights\n",
    "    m,n=np.shape(x1)\n",
    "    alpha=0.001  # Learning factor\n",
    "    for i in range(epochs):\n",
    "        h=np.dot(x1,W)\n",
    "        np.shape(h)\n",
    "        h1=1/(1 + np.exp(-h))\n",
    "        #err=(1/m)*np.sum(np.multiply(y,np.log(h1)),np.multiply(1-y,np.log(1-h1)))\n",
    "        e=h1-y1\n",
    "        W=W-((alpha/m)*np.dot(np.transpose(x1),e))\n",
    "    return W,h1\n",
    "        "
   ]
  },
  {
   "cell_type": "code",
   "execution_count": 13,
   "metadata": {},
   "outputs": [],
   "source": [
    "W,h1=continue_train(xtrain,ytrain,W)"
   ]
  },
  {
   "cell_type": "markdown",
   "metadata": {},
   "source": [
    "**Range of predicted output is [0,1]**\n",
    "# Write a function to classify them in to two classes"
   ]
  },
  {
   "cell_type": "code",
   "execution_count": 14,
   "metadata": {},
   "outputs": [],
   "source": [
    "def classify(h):\n",
    "    for i in range(len(h)):\n",
    "        if h[i]>0.5:\n",
    "            h[i]=1\n",
    "        else:\n",
    "            h[i]=0\n",
    "\n",
    "    return h\n",
    "    "
   ]
  },
  {
   "cell_type": "code",
   "execution_count": 15,
   "metadata": {},
   "outputs": [
    {
     "name": "stdout",
     "output_type": "stream",
     "text": [
      "(70, 2)\n"
     ]
    }
   ],
   "source": [
    "x=xtrain[:,1:]    # Leaving first column \n",
    "print(x.shape)"
   ]
  },
  {
   "cell_type": "code",
   "execution_count": 16,
   "metadata": {},
   "outputs": [],
   "source": [
    "htrain=classify(h1)"
   ]
  },
  {
   "cell_type": "markdown",
   "metadata": {},
   "source": [
    "### Plot Predicted Decision boundary"
   ]
  },
  {
   "cell_type": "code",
   "execution_count": 17,
   "metadata": {},
   "outputs": [],
   "source": [
    "def plotdecisionboundary(W,c1,c2):\n",
    "    x1,y1=(0,-W[0]/W[2])\n",
    "    x2,y2=(-W[0]/W[1],0)\n",
    "    m=(y2-y1)/(x2-x1)\n",
    "    x=np.arange(min(c2[0]),max(c1[0]),0.001)\n",
    "    y=m*(x-x1)+y1\n",
    "    \n",
    "    plt.plot(c1[0],c1[1],'o',label='-1')\n",
    "    plt.plot(c2[0],c2[1],'o',label='1')\n",
    "    \n",
    "    plt.plot(x,y)\n",
    "    plt.title('Data')\n",
    "    plt.xlabel('sepal length')\n",
    "    plt.ylabel('sepal width')\n",
    "\n",
    "    "
   ]
  },
  {
   "cell_type": "code",
   "execution_count": 18,
   "metadata": {},
   "outputs": [
    {
     "data": {
      "image/png": "[encoded data removed]",
      "text/plain": [
       "<Figure size 432x288 with 1 Axes>"
      ]
     },
     "metadata": {
      "needs_background": "light"
     },
     "output_type": "display_data"
    }
   ],
   "source": [
    "plotdecisionboundary(W,c1train,c2train)"
   ]
  },
  {
   "cell_type": "markdown",
   "metadata": {},
   "source": [
    "# Predict output on new(test) data"
   ]
  },
  {
   "cell_type": "code",
   "execution_count": 19,
   "metadata": {},
   "outputs": [],
   "source": [
    "def predict(xtest):\n",
    "    m,n=np.shape(xtest)\n",
    "    alpha=0.001  # Learning factor\n",
    "    h=np.dot(xtest,W)\n",
    "    h=1/(1 + np.exp(-h))\n",
    "        #err=(1/m)*np.sum(np.multiply(y,np.log(h1)),np.multiply(1-y,np.log(1-h1)))\n",
    "    h=classify(h)\n",
    "    return h\n",
    "    "
   ]
  },
  {
   "cell_type": "code",
   "execution_count": 20,
   "metadata": {},
   "outputs": [],
   "source": [
    "htest=predict(xtest)\n"
   ]
  },
  {
   "cell_type": "markdown",
   "metadata": {},
   "source": [
    "# Plot decision boundary of testing data"
   ]
  },
  {
   "cell_type": "code",
   "execution_count": 21,
   "metadata": {},
   "outputs": [
    {
     "data": {
      "image/png": "[encoded data removed]",
      "text/plain": [
       "<Figure size 432x288 with 1 Axes>"
      ]
     },
     "metadata": {
      "needs_background": "light"
     },
     "output_type": "display_data"
    }
   ],
   "source": [
    "plotdecisionboundary(W,c1test,c2test)"
   ]
  },
  {
   "cell_type": "markdown",
   "metadata": {},
   "source": [
    "# Evaluate:\n",
    "## Confusion Matrix\n",
    "\n",
    "|    |h=1|h=0|\n",
    "|:-:|:-:|:-:|\n",
    "|y=1|True Positive|False Negative|\n",
    "|y=0|False Positive|True Negative|  \n",
    "\n",
    "## Accuracy \n",
    "\n",
    "$\\dfrac{h==y}{no.of samples}$\n",
    "\n",
    "$\\dfrac{TP+TN}{TP+TN+FP+FN}$\n",
    "\n",
    "\n",
    "## Precision    \n",
    "\n",
    "$\\dfrac{h=1,y=1}{h=1}$   \n",
    "\n",
    "$\\dfrac{TP}{TP+FP}$  \n",
    "\n",
    "## Recall\n",
    "\n",
    "$\\dfrac{h=1,y=1}{y=1}$\n",
    "\n",
    "$\\dfrac{TP}{TP+FN}$\n",
    "\n",
    "\n",
    "\n"
   ]
  },
  {
   "cell_type": "code",
   "execution_count": 22,
   "metadata": {},
   "outputs": [],
   "source": [
    "def evaluate(h,y):\n",
    "    accuracy=np.sum(h==y)/len(h)\n",
    "    precision=np.sum(np.logical_and(h==1,y==1))/np.sum(h==1)\n",
    "    recall=np.sum(np.logical_and(h==1,y==1))/np.sum(y==1)\n",
    "    return accuracy,precision,recall\n",
    "    "
   ]
  },
  {
   "cell_type": "markdown",
   "metadata": {},
   "source": [
    "# Evaluation on training data"
   ]
  },
  {
   "cell_type": "code",
   "execution_count": 23,
   "metadata": {},
   "outputs": [
    {
     "name": "stdout",
     "output_type": "stream",
     "text": [
      "For training\n",
      "accuracy:98.57%\n",
      "precision:100.00%\n",
      "recall:97.06%\n"
     ]
    }
   ],
   "source": [
    "accuracy,precision,recall=evaluate(htrain,ytrain)\n",
    "print('For training')\n",
    "print('accuracy:{:.2%}\\nprecision:{:.2%}\\nrecall:{:.2%}'.format(accuracy,precision,recall))"
   ]
  },
  {
   "cell_type": "markdown",
   "metadata": {},
   "source": [
    "# Evaluation on Training data"
   ]
  },
  {
   "cell_type": "code",
   "execution_count": 24,
   "metadata": {},
   "outputs": [
    {
     "name": "stdout",
     "output_type": "stream",
     "text": [
      "For testing\n",
      "accuracy:100.00%\n",
      "precision:100.00%\n",
      "recall:100.00%\n"
     ]
    }
   ],
   "source": [
    "accuracy,precision,recall=evaluate(htest,ytest)\n",
    "print('For testing')\n",
    "print('accuracy:{:.2%}\\nprecision:{:.2%}\\nrecall:{:.2%}'.format(accuracy,precision,recall))"
   ]
  }
 ],
 "metadata": {
  "kernelspec": {
   "display_name": "Python 3",
   "language": "python",
   "name": "python3"
  },
  "language_info": {
   "codemirror_mode": {
    "name": "ipython",
    "version": 3
   },
   "file_extension": ".py",
   "mimetype": "text/x-python",
   "name": "python",
   "nbconvert_exporter": "python",
   "pygments_lexer": "ipython3",
   "version": "3.7.6"
  }
 },
 "nbformat": 4,
 "nbformat_minor": 4
}
